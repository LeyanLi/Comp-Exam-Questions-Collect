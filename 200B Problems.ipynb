{
 "cells": [
  {
   "cell_type": "markdown",
   "metadata": {},
   "source": [
    "# August 25"
   ]
  },
  {
   "cell_type": "markdown",
   "metadata": {},
   "source": [
    "-   Proof of MSReg > MSE\n",
    "-   E(\\beta_1) = \\beta_1 in SLR\n",
    "-   Omnibus F test, Partial F test, t-test\n",
    "-   Partial regression in MLR\n",
    "-   How to test significance of one categorical variable\n",
    "-   Interpretation of various log base transformation: x or y\n",
    "Y = b0 + b1 log 2 x\n",
    "Log 2 y = b0 + b1 x\n",
    "Y = b0 + b1 log e x"
   ]
  },
  {
   "cell_type": "markdown",
   "metadata": {},
   "source": [
    "# August 26"
   ]
  },
  {
   "cell_type": "markdown",
   "metadata": {},
   "source": [
    "- Why SE and P-value of $\\beta_1$ change for mean centered model\n",
    " $$\n",
    " y = b_0 + b_1d + (b_2 + b_3d)(x - \\bar x)\\\\\n",
    " y = b_0 + b_1d + (b_2 + b_3d)x \n",
    " $$\n",
    " only non-interaction term change? compare with SLR"
   ]
  },
  {
   "cell_type": "markdown",
   "metadata": {},
   "source": [
    "- SE of high $\\rho$/ correlated x increase when SLR to MLR. SE of low $\\rho$ decrease from SLR to MLR."
   ]
  },
  {
   "cell_type": "markdown",
   "metadata": {},
   "source": [
    "- diagnosing multicollinearity\n",
    "    - pairwise pearson correlation coef $r$\n",
    "    - $R^2_j$"
   ]
  },
  {
   "cell_type": "markdown",
   "metadata": {},
   "source": [
    "- $$\n",
    "VIF_j = \\frac{1}{1 - R^2_j}\\\\\n",
    " SLR: Var(\\hat b_j) = \\frac{\\hat\\sigma^2}{\\sum (x - \\bar x)^2}\\\\\n",
    " MLR: Var(\\hat b_j) = \\frac{1}{1 - R^2_j}\\frac{\\hat\\sigma^2}{\\sum (x - \\bar x)^2}\n",
    " $$\n",
    " Variance large when : \n",
    " 1. $\\hat\\sigma^2$ \n",
    " 2. $R^2_j$"
   ]
  },
  {
   "cell_type": "markdown",
   "metadata": {},
   "source": [
    "- Linear algebra of SLR and MLR inference\n",
    "Why $Var(e) = \\sigma^2(I - H)$"
   ]
  },
  {
   "cell_type": "markdown",
   "metadata": {},
   "source": [
    "- Why get P values by Bonferroni adjustment? \n",
    "$$\n",
    "t_i = \\frac{d_i}{\\sqrt{\\frac{1}{n-p}\\sum d_i^2(1 - h_i)}} ~ t_{n-1-p}\n",
    "$$"
   ]
  },
  {
   "cell_type": "markdown",
   "metadata": {},
   "source": [
    "# August 27"
   ]
  },
  {
   "cell_type": "markdown",
   "metadata": {},
   "source": [
    "- RTM: if extreme at its first measurement, tend to be close to population mean in next measurement. $\\hat y$ will be less extreme than $x$ \n",
    "$$\n",
    "\\hat y = \\bar y + b_1 (x - \\bar x)\\\\\n",
    "b_1 = r\\frac{s_y}{s_x}\\\\\n",
    "\\hat y = \\bar y + r\\frac{s_y}{s_x} (x - \\bar x)\\\\\n",
    "\\frac{\\hat y - \\bar y}{s_y} = r\\frac{x - \\bar x}{s_x}\n",
    "$$"
   ]
  },
  {
   "cell_type": "markdown",
   "metadata": {},
   "source": [
    "- Percent RTM: 100(1-r)\n",
    "- RTM happens for any pair of variables, and more pronounced for weaker correlation\n",
    "- RTM evidence: if mean change does not depend on baseline values, we would see a flat line by plotting baseline v.s change \n",
    "- RTM solutions: has a control arm "
   ]
  },
  {
   "cell_type": "markdown",
   "metadata": {},
   "source": [
    "- Constant variance is one of the guarantees for smallest variance of OLS solutions"
   ]
  },
  {
   "cell_type": "markdown",
   "metadata": {},
   "source": [
    "if variances are not constant. The inference are not correct. Real SE will be much larger.\n",
    "$$\n",
    "\\hat \\beta = (X'X)^{-1}X'y\\\\\n",
    "E = \\beta\\\\\n",
    "Var = (X'X)^{-1}X'\\Sigma X(X'X)^{-1}\n",
    "$$"
   ]
  },
  {
   "cell_type": "markdown",
   "metadata": {},
   "source": [
    "- Non-constant variance (Largest/smallest > 2 or 4) remedies\n",
    "    - log tranform y\n",
    "    - WLS: divide y, X, e by $\\sigma_i$ make variance equal 1\n",
    "    - Variance stable function\n",
    "    - SANDWICH estimator: estimate $\\hat \\Sigma$"
   ]
  },
  {
   "cell_type": "markdown",
   "metadata": {},
   "source": [
    "- One way ANOVA: compare between a>2 group means, an extension to 2 independent sample t test."
   ]
  },
  {
   "cell_type": "markdown",
   "metadata": {},
   "source": [
    "$$\n",
    "y_{ij} = \\mu_{i} + \\epsilon\\\\\n",
    "y_{ij} = \\mu + \\alpha_i + \\epsilon\n",
    "$$"
   ]
  },
  {
   "cell_type": "markdown",
   "metadata": {},
   "source": [
    "$$\n",
    "MSE= S_P^2 = \\sum_a (N_a - 1)S_a^2/ \\sum_a (N_a - 1)\\\\\n",
    "= \\sum_i \\sum_j (y_{ij} - \\bar y_i)^2/n - a\\\\\n",
    "= SSE / df\n",
    "$$ is a pooled estimate of sample variances of all groups"
   ]
  },
  {
   "cell_type": "markdown",
   "metadata": {},
   "source": [
    "- Linear combination of the means: $\\sum \\lambda_i \\mu_i$\n",
    "    - unbiased estimate: $\\sum \\lambda_i \\bar y_i$\n",
    "    - variance of estimate: $\\sum \\lambda_i^2 \\sigma^2/N_i$\n",
    "    - Test statistic for $\\sum \\lambda_i \\mu_i = c$: \n",
    "    $$\n",
    "    \\frac{\\sum \\lambda_i \\bar y_i - c}{\\hat\\sigma\\sqrt{\\sum \\lambda_i^2/N_i}}\n",
    "    $$\n",
    "~ t distribution with df = n-a"
   ]
  },
  {
   "cell_type": "markdown",
   "metadata": {},
   "source": [
    "- Sum of squares of the parameters: \n",
    "$$\n",
    "\\frac{(\\sum \\lambda_i \\bar y_i )^2}{\\sum \\lambda_i^2/N_i}\n",
    "$$\n",
    "- equivalent test: SSP/MSE ~ F distribution with df 1, n-a"
   ]
  },
  {
   "cell_type": "markdown",
   "metadata": {},
   "source": [
    "- parition SS:\n",
    "$$\n",
    "    \\sum \\sum (y_{ij} - \\mu_{..})^2 = \\sum \\sum(y_{ij} - \\bar y_{i.})^2 + \\sum \\sum(\\bar y_{i.} - \\mu_{..} )^2\n",
    "$$"
   ]
  },
  {
   "cell_type": "markdown",
   "metadata": {},
   "source": [
    "- Overall F test of equal group means: $H_0: \\mu_1 = \\mu_2 = \\mu_3$"
   ]
  },
  {
   "cell_type": "markdown",
   "metadata": {},
   "source": [
    "$$\n",
    "F = \\frac{MSGroups}{MSE}\n",
    "$$~ F distribution with df a-1, n-a"
   ]
  },
  {
   "cell_type": "markdown",
   "metadata": {},
   "source": [
    "- if CI in log scale is c1, c2, backtransform to e^c1, e^c2 is the CI for ratio of gemetric mean = median for log-normal distributions\n",
    "- Interpretation: median of xxx is between e^c1 and e^c2 times higher for xxx than xxx. "
   ]
  },
  {
   "cell_type": "code",
   "execution_count": null,
   "metadata": {},
   "outputs": [],
   "source": []
  }
 ],
 "metadata": {
  "kernelspec": {
   "display_name": "Python 3",
   "language": "python",
   "name": "python3"
  },
  "language_info": {
   "codemirror_mode": {
    "name": "ipython",
    "version": 3
   },
   "file_extension": ".py",
   "mimetype": "text/x-python",
   "name": "python",
   "nbconvert_exporter": "python",
   "pygments_lexer": "ipython3",
   "version": "3.7.6"
  }
 },
 "nbformat": 4,
 "nbformat_minor": 4
}
