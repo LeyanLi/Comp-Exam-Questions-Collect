{
 "cells": [
  {
   "cell_type": "markdown",
   "metadata": {},
   "source": [
    "# August 25"
   ]
  },
  {
   "cell_type": "markdown",
   "metadata": {},
   "source": [
    "-   Proof of MSReg > MSE\n",
    "-   E(\\beta_1) = \\beta_1 in SLR\n",
    "-   Omnibus F test, Partial F test, t-test\n",
    "-   Partial regression in MLR\n",
    "-   How to test significance of one categorical variable\n",
    "-   Interpretation of various log base transformation: x or y\n",
    "Y = b0 + b1 log 2 x\n",
    "Log 2 y = b0 + b1 x\n",
    "Y = b0 + b1 log e x"
   ]
  },
  {
   "cell_type": "markdown",
   "metadata": {},
   "source": [
    "# August 26"
   ]
  },
  {
   "cell_type": "markdown",
   "metadata": {},
   "source": [
    "- Why SE and P-value of $\\beta_1$ change for mean centered model\n",
    " $$\n",
    " y = b_0 + b_1d + (b_2 + b_3d)(x - \\bar x)\\\\\n",
    " y = b_0 + b_1d + (b_2 + b_3d)x \n",
    " $$\n",
    " only non-interaction term change? compare with SLR"
   ]
  },
  {
   "cell_type": "markdown",
   "metadata": {},
   "source": [
    "- SE of high $\\rho$/ correlated x increase when SLR to MLR. SE of low $\\rho$ decrease from SLR to MLR."
   ]
  },
  {
   "cell_type": "markdown",
   "metadata": {},
   "source": [
    "- diagnosing multicollinearity\n",
    "    - pairwise pearson correlation coef $r$\n",
    "    - $R^2_j$"
   ]
  },
  {
   "cell_type": "markdown",
   "metadata": {},
   "source": [
    "- $$\n",
    "VIF_j = \\frac{1}{1 - R^2_j}\\\\\n",
    " SLR: Var(\\hat b_j) = \\frac{\\hat\\sigma^2}{\\sum (x - \\bar x)^2}\\\\\n",
    " MLR: Var(\\hat b_j) = \\frac{1}{1 - R^2_j}\\frac{\\hat\\sigma^2}{\\sum (x - \\bar x)^2}\n",
    " $$\n",
    " Variance large when : \n",
    " 1. $\\hat\\sigma^2$ \n",
    " 2. $R^2_j$"
   ]
  },
  {
   "cell_type": "markdown",
   "metadata": {},
   "source": [
    "- Linear algebra of SLR and MLR inference\n",
    "Why $Var(e) = \\sigma^2(I - H)$"
   ]
  },
  {
   "cell_type": "markdown",
   "metadata": {},
   "source": [
    "- Why get P values by Bonferroni adjustment? \n",
    "$$\n",
    "t_i = \\frac{d_i}{\\sqrt{\\frac{1}{n-p}\\sum d_i^2(1 - h_i)}} ~ t_{n-1-p}\n",
    "$$"
   ]
  },
  {
   "cell_type": "code",
   "execution_count": null,
   "metadata": {},
   "outputs": [],
   "source": []
  }
 ],
 "metadata": {
  "kernelspec": {
   "display_name": "Python 3",
   "language": "python",
   "name": "python3"
  },
  "language_info": {
   "codemirror_mode": {
    "name": "ipython",
    "version": 3
   },
   "file_extension": ".py",
   "mimetype": "text/x-python",
   "name": "python",
   "nbconvert_exporter": "python",
   "pygments_lexer": "ipython3",
   "version": "3.7.6"
  }
 },
 "nbformat": 4,
 "nbformat_minor": 4
}
