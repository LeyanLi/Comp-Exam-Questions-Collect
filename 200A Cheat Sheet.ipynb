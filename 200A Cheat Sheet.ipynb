{
 "cells": [
  {
   "cell_type": "markdown",
   "metadata": {},
   "source": [
    "# NPV and PPV"
   ]
  },
  {
   "cell_type": "markdown",
   "metadata": {},
   "source": [
    "$$\n",
    "PPV = P(D | +) = \\frac{P(D \\cap +)}{P(+)}\\\\\n",
    "= \\frac{P(D \\cap +)}{P(D \\cap +) + P(\\bar D \\cap +)}\\\\\n",
    "= \\frac{P( +|D)P(D)}{P( +|D)P(D) + P( +|\\bar D)P(\\bar D)}\\\\\n",
    "= \\frac{\\text{sens}*p}{\\text{sens}*p + (1 - \\text{spec})(1- p)}\n",
    "$$"
   ]
  },
  {
   "cell_type": "markdown",
   "metadata": {},
   "source": [
    "$$\n",
    "P(D) = \\frac{PPV * (1-\\text{spec})}{\\text{sens}(1- PPV)+PPV*(1- \\text{spec})}\n",
    "$$"
   ]
  },
  {
   "cell_type": "markdown",
   "metadata": {},
   "source": [
    "$$\n",
    "NPV = P(\\bar D | -) = \\frac{P(\\bar D \\cap -)}{P(-)}\\\\\n",
    "= \\frac{P(\\bar D \\cap -)}{P(\\bar D \\cap -) + P( D \\cap -)}\\\\\n",
    "= \\frac{P(- | \\bar D)P(\\bar D)}{P(- | \\bar D)P(\\bar D) + P(- | D)P( D)}\\\\\n",
    "= \\frac{\\text{spec}*(1-P)}{\\text{spec}*(1-P) + (1 - \\text{sens})*P}\n",
    "$$"
   ]
  },
  {
   "cell_type": "markdown",
   "metadata": {},
   "source": [
    "$$\n",
    "P(D) = \\frac{\\text{spec} * (1-NPV)}{\\text{spec}(1- NPV)+NPV*(1- \\text{sens})}\n",
    "$$"
   ]
  },
  {
   "cell_type": "markdown",
   "metadata": {},
   "source": [
    "# Power and Sample Size"
   ]
  },
  {
   "cell_type": "markdown",
   "metadata": {},
   "source": [
    "Test | Power       | Sample size\n",
    "---- | ----------- | -----------\n",
    "One-sample Z-test| $$\\phi(-Z_{1-\\alpha/2} + \\frac{|\\mu_0 - \\mu_1|\\sqrt n}{\\sigma})$$ |$$ n = \\frac{\\sigma^2(Z_{1-\\beta} + Z_{1-\\alpha/2})^2}{(\\mu_0 - \\mu_1)^2}$$\n",
    "Two sample mean | $$\\phi (-Z_{1-\\alpha/2} + \\frac{\\Delta}{\\sqrt{\\sigma_1^2/n_1 + \\sigma_2^2/n_2}})$$ | $$n_1 = n_2 = \\frac{(\\sigma_1^2 + \\sigma_2^2)(Z_{1-\\beta} + Z_{1-\\alpha/2})^2}{\\Delta^2}$$\n",
    " | | $$n_1 = \\frac{(\\sigma_1^2 + \\sigma_2^2/k)(Z_{1-\\beta} + Z_{1-\\alpha/2})^2}{\\Delta^2}\\\\ n_2 = kn_1$$\n",
    " Two sample proportion | $$\\phi(\\frac{\\Delta}{\\sqrt{p_1q_1/n_1+p_2q_2/n_2}}- Z_{1-\\alpha/2}\\frac{\\sqrt{\\bar p \\bar q(1/n_1+1/n_2)}}{\\sqrt{p_1q_1/n_1 + p_2q_2/n_2}})$$ | $$n_1 = [\\sqrt{\\bar p \\bar q(1+\\frac{1}{k})}Z_{1-\\alpha/2} + \\sqrt{p_1q_1+\\frac{p_2q_2}{k}}Z_{1-\\beta}]^2/\\Delta^2\\\\ n_2 = kn_1$$\n",
    " McNemar's Test | $$\\phi[\\frac{1}{2\\sqrt{p_Aq_A}}(Z_{\\alpha/2} + 2 |p_A - 0.5|\\sqrt{np_D})]$$ | $$ n = \\frac{(Z_{1-\\alpha/2} + 2Z_{1-\\beta}\\sqrt{p_Aq_A})^2}{4(p_A - 0.5)^2p_D}$$"
   ]
  },
  {
   "cell_type": "code",
   "execution_count": null,
   "metadata": {},
   "outputs": [],
   "source": []
  }
 ],
 "metadata": {
  "kernelspec": {
   "display_name": "Python 3",
   "language": "python",
   "name": "python3"
  },
  "language_info": {
   "codemirror_mode": {
    "name": "ipython",
    "version": 3
   },
   "file_extension": ".py",
   "mimetype": "text/x-python",
   "name": "python",
   "nbconvert_exporter": "python",
   "pygments_lexer": "ipython3",
   "version": "3.7.6"
  }
 },
 "nbformat": 4,
 "nbformat_minor": 4
}
