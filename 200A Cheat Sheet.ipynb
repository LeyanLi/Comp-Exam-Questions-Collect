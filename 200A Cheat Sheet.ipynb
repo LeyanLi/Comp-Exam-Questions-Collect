{
 "cells": [
  {
   "cell_type": "markdown",
   "metadata": {},
   "source": [
    "# NPV and PPV"
   ]
  },
  {
   "cell_type": "markdown",
   "metadata": {},
   "source": [
    "$$\n",
    "PPV = P(D | +) = \\frac{P(D \\cap +)}{P(+)}\\\\\n",
    "= \\frac{P(D \\cap +)}{P(D \\cap +) + P(\\bar D \\cap +)}\\\\\n",
    "= \\frac{P( +|D)P(D)}{P( +|D)P(D) + P( +|\\bar D)P(\\bar D)}\\\\\n",
    "= \\frac{\\text{sens}*p}{\\text{sens}*p + (1 - \\text{spec})(1- p)}\n",
    "$$"
   ]
  },
  {
   "cell_type": "markdown",
   "metadata": {},
   "source": [
    "$$\n",
    "P(D) = \\frac{PPV * (1-\\text{spec})}{\\text{sens}(1- PPV)+PPV*(1- \\text{spec})}\n",
    "$$"
   ]
  },
  {
   "cell_type": "markdown",
   "metadata": {},
   "source": [
    "$$\n",
    "NPV = P(\\bar D | -) = \\frac{P(\\bar D \\cap -)}{P(-)}\\\\\n",
    "= \\frac{P(\\bar D \\cap -)}{P(\\bar D \\cap -) + P( D \\cap -)}\\\\\n",
    "= \\frac{P(- | \\bar D)P(\\bar D)}{P(- | \\bar D)P(\\bar D) + P(- | D)P( D)}\\\\\n",
    "= \\frac{\\text{spec}*(1-P)}{\\text{spec}*(1-P) + (1 - \\text{sens})*P}\n",
    "$$"
   ]
  },
  {
   "cell_type": "markdown",
   "metadata": {},
   "source": [
    "$$\n",
    "P(D) = \\frac{\\text{spec} * (1-NPV)}{\\text{spec}(1- NPV)+NPV*(1- \\text{sens})}\n",
    "$$"
   ]
  },
  {
   "cell_type": "code",
   "execution_count": null,
   "metadata": {},
   "outputs": [],
   "source": []
  }
 ],
 "metadata": {
  "kernelspec": {
   "display_name": "Python 3",
   "language": "python",
   "name": "python3"
  },
  "language_info": {
   "codemirror_mode": {
    "name": "ipython",
    "version": 3
   },
   "file_extension": ".py",
   "mimetype": "text/x-python",
   "name": "python",
   "nbconvert_exporter": "python",
   "pygments_lexer": "ipython3",
   "version": "3.7.6"
  }
 },
 "nbformat": 4,
 "nbformat_minor": 4
}
